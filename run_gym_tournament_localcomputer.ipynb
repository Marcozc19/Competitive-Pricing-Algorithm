{
 "cells": [
  {
   "cell_type": "markdown",
   "id": "a4688825",
   "metadata": {
    "colab_type": "text",
    "id": "view-in-github"
   },
   "source": [
    "<a href=\"https://colab.research.google.com/github/ORIE5355/project_competition_public/blob/main/run_gym_headtohead.ipynb\" target=\"_parent\"><img src=\"https://colab.research.google.com/assets/colab-badge.svg\" alt=\"Open In Colab\"/></a>"
   ]
  },
  {
   "cell_type": "code",
   "execution_count": 1,
   "id": "1e30a1e2",
   "metadata": {
    "ExecuteTime": {
     "end_time": "2021-08-07T01:43:26.798549Z",
     "start_time": "2021-08-07T01:43:26.615639Z"
    },
    "id": "1e30a1e2",
    "tags": []
   },
   "outputs": [],
   "source": [
    "import sys, os\n",
    "import numpy as np \n",
    "import pandas as pd\n",
    "import matplotlib.pyplot as plt\n",
    "import time\n",
    "from IPython import display\n",
    "import itertools\n",
    "\n",
    "%load_ext autoreload\n",
    "%autoreload 2\n",
    "import make_env"
   ]
  },
  {
   "cell_type": "markdown",
   "id": "2f672045-f748-4537-836d-c2a9d75d3bcd",
   "metadata": {},
   "source": [
    "# Tournament Simulation\n",
    "\n",
    "We will run a round-robin tournament, that works as follows:\n",
    "\n",
    "- Each “round” consists of two teams competing, for `T = 2500` rounds.\n",
    "- Each team will compete against every other team exactly once. And so, if there are `N` teams, then each team will compete in `N-1` rounds.\n",
    "- The overall score for each team will be their overall revenue across all their games. The winner will thus be the team with the highest overall revenue across their games."
   ]
  },
  {
   "cell_type": "markdown",
   "id": "e2e92c13-2103-4c52-8816-8171ec3f127f",
   "metadata": {},
   "source": [
    "## Helpers"
   ]
  },
  {
   "cell_type": "markdown",
   "id": "558e4564-cb75-493d-b3bb-011d89de97a9",
   "metadata": {},
   "source": [
    "### Single-step"
   ]
  },
  {
   "cell_type": "code",
   "execution_count": 2,
   "id": "55ade5bd-e639-4ad3-a119-feaced96cff4",
   "metadata": {
    "tags": []
   },
   "outputs": [],
   "source": [
    "def run_single_step(project_part, T, headtohead):\n",
    "\n",
    "    # Each step will be a single head-to-head competition\n",
    "    assert len(headtohead) == 2\n",
    "\n",
    "    if project_part == 1:\n",
    "        env, agents = make_env.make_env_agents(agentnames = headtohead, project_part = project_part)\n",
    "    else:\n",
    "        env, agents = make_env.make_env_agents(agentnames = headtohead, project_part = project_part,\n",
    "                                               first_file = 'data/datafile1.csv', second_file='data/datafile2.csv')\n",
    "    \n",
    "    # Run head-to-head\n",
    "    env.reset()\n",
    "    customer_covariates, sale, profits = env.get_current_state_customer_to_send_agents()\n",
    "    last_customer_covariates = customer_covariates\n",
    "    cumulativetimes = [0 for _ in agents]\n",
    "    \n",
    "    fig, ax = plt.subplots(figsize=(20, 10))\n",
    "    for t in range(0, T):\n",
    "        \n",
    "        actions = []\n",
    "        for enoutside, agent in enumerate(agents):\n",
    "            ts = time.time()\n",
    "            \n",
    "            action = agent.action((customer_covariates, sale, profits))\n",
    "            # Have to give 1 price for each item. There is 1 item in part 1, 2 items in part 2\n",
    "            assert len(action) == project_part\n",
    "            \n",
    "            curtime = time.time()\n",
    "            cumulativetimes[enoutside] += curtime - ts\n",
    "            actions.append(action)\n",
    "            \n",
    "        customer_covariates, sale, profits = env.step(actions)\n",
    "        newplot = env.render(True)\n",
    "        if newplot:\n",
    "            display.clear_output(wait=True)\n",
    "            \n",
    "        # print('last customer covariate: ', last_customer_covariates)\n",
    "        # print('last (item bought, agent bought from, prices): ', sale)\n",
    "        # print('current_profit per agent: ', profits)\n",
    "        last_customer_covariates = customer_covariates\n",
    "    fig = plt.gcf()\n",
    "    plt.close()\n",
    "\n",
    "    return fig, env.cumulative_buyer_utility, profits, list(map(lambda x: x/T, cumulativetimes))"
   ]
  },
  {
   "cell_type": "markdown",
   "id": "16bee546-f7fb-471c-b439-b5a08adf3fc3",
   "metadata": {},
   "source": [
    "### Round-robin"
   ]
  },
  {
   "cell_type": "code",
   "execution_count": 3,
   "id": "5a9264ba-3279-4665-8589-44f419ea2a7c",
   "metadata": {
    "tags": []
   },
   "outputs": [],
   "source": [
    "def run_round_robin(project_part=1, T=500, agentnames=['dummy_rand_alpha', 'dummy_fixed_prices_adaptive']):\n",
    "    \"\"\"\n",
    "    Simulate a round-robin dynamic pricing under competition tournament\n",
    "\n",
    "    project_part : int\n",
    "        TODO Change this for whether you're coding for part 1 or part 2!\n",
    "    T : int\n",
    "        Number of rounds (time-steps)\n",
    "    agentnames : list(str)\n",
    "        Replace the agentnames to match whatever agentfiles you create. You can use the same agentnames for both agents\n",
    "    \"\"\"\n",
    "    results = []\n",
    "    for headtohead in list(itertools.combinations(agentnames, 2)):\n",
    "        \n",
    "        fig, cumulative_buyer_utility, profits, avg_runtimes = run_single_step(project_part=project_part,\n",
    "                                                                               T=T,\n",
    "                                                                               headtohead=headtohead)\n",
    "        \n",
    "        results.append({'fig': fig, 'buyer_utility': cumulative_buyer_utility,\n",
    "                        'agent0': headtohead[0], 'profit0': profits[0], 'avg_runtime0': avg_runtimes[0],\n",
    "                        'agent1': headtohead[1], 'profit1': profits[1], 'avg_runtime1': avg_runtimes[1]})\n",
    "        \n",
    "    return pd.DataFrame(results).sort_values(by='buyer_utility', ascending=False).reset_index(drop=True)"
   ]
  },
  {
   "cell_type": "markdown",
   "id": "27a9b582-918b-4ea7-bbf3-e0dc4c55ae60",
   "metadata": {},
   "source": [
    "## Run Competitions"
   ]
  },
  {
   "cell_type": "code",
   "execution_count": 9,
   "id": "23ed783a-4e19-4ba2-b124-9cc268b06bfb",
   "metadata": {
    "tags": []
   },
   "outputs": [
    {
     "data": {
      "text/plain": [
       "['ads-annihilators',\n",
       " 'agent_coop_exploit_moonshot',\n",
       " 'agent_coop_punish_exploit',\n",
       " 'dummy',\n",
       " 'dummy_fixed_prices',\n",
       " 'dummy_fixed_prices_adaptive',\n",
       " 'dummy_fixed_prices_adaptive_plus_rand',\n",
       " 'dummy_rand_alpha',\n",
       " 'dummy_xround_fp_high_alpha',\n",
       " 'dummy_xround_full_price']"
      ]
     },
     "execution_count": 9,
     "metadata": {},
     "output_type": "execute_result"
    }
   ],
   "source": [
    "all_agents = list(\n",
    "    map(lambda x: x.replace('.py', ''), filter(lambda x: ('.py' in x) and ('__init__' not in x), os.listdir('agents/')))\n",
    ")\n",
    "all_agents"
   ]
  },
  {
   "cell_type": "code",
   "execution_count": 10,
   "id": "601b8ad1-57da-4a0f-9500-24b618e0aa52",
   "metadata": {
    "tags": []
   },
   "outputs": [
    {
     "name": "stdout",
     "output_type": "stream",
     "text": [
      "CPU times: total: 9min 46s\n",
      "Wall time: 11min 27s\n"
     ]
    }
   ],
   "source": [
    "%%time\n",
    "df = run_round_robin(project_part=1,\n",
    "                     T=2500,\n",
    "                     agentnames=all_agents)"
   ]
  },
  {
   "cell_type": "code",
   "execution_count": 11,
   "id": "325cbe77-12bd-4376-a83b-6c6560d2308b",
   "metadata": {
    "tags": []
   },
   "outputs": [
    {
     "data": {
      "image/png": "[encoded data removed]",
      "text/plain": [
       "<Figure size 640x480 with 1 Axes>"
      ]
     },
     "execution_count": 11,
     "metadata": {},
     "output_type": "execute_result"
    }
   ],
   "source": [
    "df.fig.iloc[0]"
   ]
  },
  {
   "cell_type": "markdown",
   "id": "a9f5b6c1-9a83-4252-838a-1ee5461ba261",
   "metadata": {},
   "source": [
    "### Evaluation"
   ]
  },
  {
   "cell_type": "code",
   "execution_count": 12,
   "id": "e69c87eb-90ff-4d3a-9633-2893b752b3a6",
   "metadata": {
    "tags": []
   },
   "outputs": [
    {
     "data": {
      "text/plain": [
       "agent\n",
       "agent_coop_exploit_moonshot              104547.270061\n",
       "agent_coop_punish_exploit                 91990.303905\n",
       "ads-annihilators                          90384.066662\n",
       "dummy_xround_full_price                   65233.277609\n",
       "dummy_fixed_prices_adaptive               64369.617666\n",
       "dummy_xround_fp_high_alpha                63449.777091\n",
       "dummy_fixed_prices_adaptive_plus_rand     63025.100602\n",
       "dummy_fixed_prices                        48047.486033\n",
       "dummy_rand_alpha                          44420.051952\n",
       "dummy                                      8180.672647\n",
       "Name: profit, dtype: float64"
      ]
     },
     "execution_count": 12,
     "metadata": {},
     "output_type": "execute_result"
    }
   ],
   "source": [
    "ranking = pd.concat([\n",
    "    df[['agent0', 'profit0']].rename(columns={'agent0': 'agent', 'profit0': 'profit'}),\n",
    "    df[['agent1', 'profit1']].rename(columns={'agent1': 'agent', 'profit1': 'profit'})\n",
    "]).groupby('agent').profit.sum().sort_values(ascending=False)\n",
    "ranking"
   ]
  },
  {
   "cell_type": "code",
   "execution_count": null,
   "id": "b3a3116b-9d31-43aa-8c01-0ebdbb89d2b3",
   "metadata": {},
   "outputs": [],
   "source": []
  }
 ],
 "metadata": {
  "colab": {
   "include_colab_link": true,
   "name": "run_gym_headtohead_localcomputer.ipynb",
   "provenance": []
  },
  "kernelspec": {
   "display_name": "Python 3 (ipykernel)",
   "language": "python",
   "name": "python3"
  },
  "language_info": {
   "codemirror_mode": {
    "name": "ipython",
    "version": 3
   },
   "file_extension": ".py",
   "mimetype": "text/x-python",
   "name": "python",
   "nbconvert_exporter": "python",
   "pygments_lexer": "ipython3",
   "version": "3.10.13"
  },
  "varInspector": {
   "cols": {
    "lenName": 16,
    "lenType": 16,
    "lenVar": 40
   },
   "kernels_config": {
    "python": {
     "delete_cmd_postfix": "",
     "delete_cmd_prefix": "del ",
     "library": "var_list.py",
     "varRefreshCmd": "print(var_dic_list())"
    },
    "r": {
     "delete_cmd_postfix": ") ",
     "delete_cmd_prefix": "rm(",
     "library": "var_list.r",
     "varRefreshCmd": "cat(var_dic_list()) "
    }
   },
   "types_to_exclude": [
    "module",
    "function",
    "builtin_function_or_method",
    "instance",
    "_Feature"
   ],
   "window_display": false
  },
  "vscode": {
   "interpreter": {
    "hash": "73df46ec177d404a69dd943a876847378120b71a0966b441c66956db6a0c1468"
   }
  }
 },
 "nbformat": 4,
 "nbformat_minor": 5
}
