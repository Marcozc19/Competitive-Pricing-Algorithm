{
 "cells": [
  {
   "cell_type": "code",
   "execution_count": 1,
   "id": "initial_id",
   "metadata": {
    "ExecuteTime": {
     "end_time": "2023-11-26T17:57:47.824100900Z",
     "start_time": "2023-11-26T17:57:45.796378100Z"
    }
   },
   "outputs": [],
   "source": [
    "from optimizer import Optimizer\n",
    "from timeit import timeit\n",
    "\n",
    "import warnings\n",
    "warnings.filterwarnings('ignore')"
   ]
  },
  {
   "cell_type": "markdown",
   "id": "1a4ea496-2c87-48ff-b48e-f6532602375b",
   "metadata": {},
   "source": [
    "# Performance Profiling"
   ]
  },
  {
   "cell_type": "code",
   "execution_count": 2,
   "id": "2daa068c-e1c4-435f-84f2-48c458913c85",
   "metadata": {},
   "outputs": [],
   "source": [
    "# These all need to available as global constants\n",
    "covs=[1.793184, 0.704047, 5.865989]\n",
    "iterations=1000"
   ]
  },
  {
   "cell_type": "code",
   "execution_count": 3,
   "id": "641bc96b-2240-4ebc-a380-ce2c3e1f2a0a",
   "metadata": {},
   "outputs": [],
   "source": [
    "def profile_run():\n",
    "    total_time = timeit(\"opt.get_demand_at_prices(covs)\", number=iterations, globals=globals())\n",
    "    print(f\"get_demand_at_prices() avg runtime: {total_time / iterations:.6f} seconds\")\n",
    "    \n",
    "    total_time = timeit(\"opt.get_revenue_maximizing_prices_and_revenue(demand)\", number=iterations, globals=globals())\n",
    "    print(f\"get_revenue_maximizing_prices_and_revenue() avg runtime: {total_time / iterations:.6f} seconds\")\n",
    "    \n",
    "    total_time = timeit(\"opt.get_revenue_maximizing_prices_and_revenue_from_cov(covs)\", number=iterations, globals=globals())\n",
    "    print(f\"get_revenue_maximizing_prices_and_revenue_from_cov() avg runtime: {total_time / iterations:.6f} seconds\")"
   ]
  },
  {
   "cell_type": "markdown",
   "id": "8c3800d0-4900-4e87-b41d-37835e113c24",
   "metadata": {},
   "source": [
    "## XGBoost"
   ]
  },
  {
   "cell_type": "code",
   "execution_count": 4,
   "id": "2eff2b5d-8369-41d4-b934-de58c993972a",
   "metadata": {},
   "outputs": [
    {
     "name": "stdout",
     "output_type": "stream",
     "text": [
      "get_demand_at_prices() avg runtime: 0.089825 seconds\n",
      "get_revenue_maximizing_prices_and_revenue() avg runtime: 0.010742 seconds\n",
      "get_revenue_maximizing_prices_and_revenue_from_cov() avg runtime: 0.097210 seconds\n"
     ]
    }
   ],
   "source": [
    "opt = Optimizer(model_file='xgbclassifier_v1.pkl', bought_range_p0=100, bought_range_p1=100)\n",
    "demand = opt.get_demand_at_prices(covs)\n",
    "profile_run()"
   ]
  },
  {
   "cell_type": "markdown",
   "id": "0dd1a9fc-9fa0-4f52-9927-b634c99e8b5c",
   "metadata": {},
   "source": [
    "## Logistic Regression"
   ]
  },
  {
   "cell_type": "code",
   "execution_count": 5,
   "id": "3752a0e4-71f8-4abf-94bb-f8928520974d",
   "metadata": {},
   "outputs": [
    {
     "name": "stdout",
     "output_type": "stream",
     "text": [
      "get_demand_at_prices() avg runtime: 0.000781 seconds\n",
      "get_revenue_maximizing_prices_and_revenue() avg runtime: 0.010003 seconds\n",
      "get_revenue_maximizing_prices_and_revenue_from_cov() avg runtime: 0.010690 seconds\n"
     ]
    }
   ],
   "source": [
    "opt = Optimizer(model_file='logit_v1.pkl', bought_range_p0=100, bought_range_p1=100)\n",
    "demand = opt.get_demand_at_prices(covs)\n",
    "profile_run()"
   ]
  },
  {
   "cell_type": "markdown",
   "id": "343d5a86-0040-447b-bc8d-e06d0b5a3f69",
   "metadata": {},
   "source": [
    "## GradientBoostingClassifier"
   ]
  },
  {
   "cell_type": "code",
   "execution_count": 6,
   "id": "ac4fb161-6ac8-4d98-b1d8-48f8819cd670",
   "metadata": {},
   "outputs": [
    {
     "name": "stdout",
     "output_type": "stream",
     "text": [
      "get_demand_at_prices() avg runtime: 0.025221 seconds\n",
      "get_revenue_maximizing_prices_and_revenue() avg runtime: 0.010278 seconds\n",
      "get_revenue_maximizing_prices_and_revenue_from_cov() avg runtime: 0.035074 seconds\n"
     ]
    }
   ],
   "source": [
    "opt = Optimizer(model_file='gradboost_v1.pkl', bought_range_p0=100, bought_range_p1=100)\n",
    "demand = opt.get_demand_at_prices(covs)\n",
    "profile_run()"
   ]
  },
  {
   "cell_type": "code",
   "execution_count": null,
   "id": "5de36c32-58fe-490c-9032-7d142c0a9f80",
   "metadata": {},
   "outputs": [],
   "source": []
  }
 ],
 "metadata": {
  "kernelspec": {
   "display_name": "Python [conda env:ads]",
   "language": "python",
   "name": "conda-env-ads-py"
  },
  "language_info": {
   "codemirror_mode": {
    "name": "ipython",
    "version": 3
   },
   "file_extension": ".py",
   "mimetype": "text/x-python",
   "name": "python",
   "nbconvert_exporter": "python",
   "pygments_lexer": "ipython3",
   "version": "3.10.13"
  }
 },
 "nbformat": 4,
 "nbformat_minor": 5
}
