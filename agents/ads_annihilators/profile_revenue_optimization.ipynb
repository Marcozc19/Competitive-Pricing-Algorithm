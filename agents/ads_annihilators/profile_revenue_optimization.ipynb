{
 "cells": [
  {
   "cell_type": "code",
   "execution_count": 1,
   "id": "initial_id",
   "metadata": {
    "ExecuteTime": {
     "end_time": "2023-11-26T17:57:47.824100900Z",
     "start_time": "2023-11-26T17:57:45.796378100Z"
    }
   },
   "outputs": [],
   "source": [
    "from optimizer import Optimizer\n",
    "from timeit import timeit\n",
    "import pandas as pd\n",
    "from tqdm.notebook import tqdm\n",
    "tqdm.pandas()\n",
    "\n",
    "import warnings\n",
    "warnings.filterwarnings('ignore')"
   ]
  },
  {
   "cell_type": "markdown",
   "id": "1a4ea496-2c87-48ff-b48e-f6532602375b",
   "metadata": {
    "jp-MarkdownHeadingCollapsed": true
   },
   "source": [
    "# Performance Profiling"
   ]
  },
  {
   "cell_type": "code",
   "execution_count": 2,
   "id": "2daa068c-e1c4-435f-84f2-48c458913c85",
   "metadata": {},
   "outputs": [],
   "source": [
    "# These all need to available as global constants\n",
    "covs=[1.793184, 0.704047, 5.865989]\n",
    "iterations=1000"
   ]
  },
  {
   "cell_type": "code",
   "execution_count": 3,
   "id": "641bc96b-2240-4ebc-a380-ce2c3e1f2a0a",
   "metadata": {},
   "outputs": [],
   "source": [
    "def profile_run():\n",
    "    total_time = timeit(\"opt.get_demand_at_prices(covs)\", number=iterations, globals=globals())\n",
    "    print(f\"get_demand_at_prices() avg runtime: {total_time / iterations:.6f} seconds\")\n",
    "    \n",
    "    total_time = timeit(\"opt.get_revenue_maximizing_prices_and_revenue(demand)\", number=iterations, globals=globals())\n",
    "    print(f\"get_revenue_maximizing_prices_and_revenue() avg runtime: {total_time / iterations:.6f} seconds\")\n",
    "    \n",
    "    total_time = timeit(\"opt.get_revenue_maximizing_prices_and_revenue_from_cov(covs)\", number=iterations, globals=globals())\n",
    "    print(f\"get_revenue_maximizing_prices_and_revenue_from_cov() avg runtime: {total_time / iterations:.6f} seconds\")"
   ]
  },
  {
   "cell_type": "markdown",
   "id": "8c3800d0-4900-4e87-b41d-37835e113c24",
   "metadata": {},
   "source": [
    "## XGBoost"
   ]
  },
  {
   "cell_type": "code",
   "execution_count": 4,
   "id": "2eff2b5d-8369-41d4-b934-de58c993972a",
   "metadata": {},
   "outputs": [
    {
     "name": "stdout",
     "output_type": "stream",
     "text": [
      "get_demand_at_prices() avg runtime: 0.089825 seconds\n",
      "get_revenue_maximizing_prices_and_revenue() avg runtime: 0.010742 seconds\n",
      "get_revenue_maximizing_prices_and_revenue_from_cov() avg runtime: 0.097210 seconds\n"
     ]
    }
   ],
   "source": [
    "opt = Optimizer(model_file='xgbclassifier_v1.pkl', bought_range_p0=100, bought_range_p1=100)\n",
    "demand = opt.get_demand_at_prices(covs)\n",
    "profile_run()"
   ]
  },
  {
   "cell_type": "markdown",
   "id": "0dd1a9fc-9fa0-4f52-9927-b634c99e8b5c",
   "metadata": {},
   "source": [
    "## Logistic Regression"
   ]
  },
  {
   "cell_type": "code",
   "execution_count": 5,
   "id": "3752a0e4-71f8-4abf-94bb-f8928520974d",
   "metadata": {},
   "outputs": [
    {
     "name": "stdout",
     "output_type": "stream",
     "text": [
      "get_demand_at_prices() avg runtime: 0.000781 seconds\n",
      "get_revenue_maximizing_prices_and_revenue() avg runtime: 0.010003 seconds\n",
      "get_revenue_maximizing_prices_and_revenue_from_cov() avg runtime: 0.010690 seconds\n"
     ]
    }
   ],
   "source": [
    "opt = Optimizer(model_file='logit_v1.pkl', bought_range_p0=100, bought_range_p1=100)\n",
    "demand = opt.get_demand_at_prices(covs)\n",
    "profile_run()"
   ]
  },
  {
   "cell_type": "markdown",
   "id": "343d5a86-0040-447b-bc8d-e06d0b5a3f69",
   "metadata": {},
   "source": [
    "## GradientBoostingClassifier"
   ]
  },
  {
   "cell_type": "code",
   "execution_count": 6,
   "id": "ac4fb161-6ac8-4d98-b1d8-48f8819cd670",
   "metadata": {},
   "outputs": [
    {
     "name": "stdout",
     "output_type": "stream",
     "text": [
      "get_demand_at_prices() avg runtime: 0.025221 seconds\n",
      "get_revenue_maximizing_prices_and_revenue() avg runtime: 0.010278 seconds\n",
      "get_revenue_maximizing_prices_and_revenue_from_cov() avg runtime: 0.035074 seconds\n"
     ]
    }
   ],
   "source": [
    "opt = Optimizer(model_file='gradboost_v1.pkl', bought_range_p0=100, bought_range_p1=100)\n",
    "demand = opt.get_demand_at_prices(covs)\n",
    "profile_run()"
   ]
  },
  {
   "cell_type": "markdown",
   "id": "b83b48b9-8f19-4a2d-9264-569820aba08b",
   "metadata": {},
   "source": [
    "# Static Submission\n",
    "\n",
    "You also need to submit static prices for the test set of agents – a CSV with your calculated optimal prices for each test customer. For a set of test customers in the file “test_user_info.csv”, you will calculate prices for each item for each customer so as to maximize expected revenue if you were a monopolist (i.e., as in HW3)\n",
    "\n",
    "The CSV should have four columns:\n",
    "- (1) `user_index`\n",
    "- (2) `price_item_0`\n",
    "- (3) `price_item_1`\n",
    "- (4) `expected_revenue`\n",
    "\n",
    "The file should be named `part2_static_prices_submission.csv` and should be in the `agents/` folder (same folder as `yourteamname.py`)"
   ]
  },
  {
   "cell_type": "code",
   "execution_count": 2,
   "id": "4aedfca0-322a-4140-8151-7394460f1864",
   "metadata": {},
   "outputs": [
    {
     "data": {
      "text/plain": [
       "(30000, 4)"
      ]
     },
     "execution_count": 2,
     "metadata": {},
     "output_type": "execute_result"
    }
   ],
   "source": [
    "test_user_info = pd.read_csv('../../data/test_user_info.csv')\n",
    "test_user_info.shape"
   ]
  },
  {
   "cell_type": "code",
   "execution_count": 3,
   "id": "b1b0f5dd-adf1-4bd9-8492-69f99fb705d5",
   "metadata": {},
   "outputs": [],
   "source": [
    "opt = Optimizer(model_file='xgbclassifier_v1.pkl', bought_range_p0=45, bought_range_p1=60)"
   ]
  },
  {
   "cell_type": "code",
   "execution_count": 4,
   "id": "0bfdb991-ee29-4f97-8dc1-32c374a2b8db",
   "metadata": {},
   "outputs": [
    {
     "data": {
      "application/vnd.jupyter.widget-view+json": {
       "model_id": "a965405c9d194520bec4b64c9ee6dd85",
       "version_major": 2,
       "version_minor": 0
      },
      "text/plain": [
       "  0%|          | 0/30000 [00:00<?, ?it/s]"
      ]
     },
     "metadata": {},
     "output_type": "display_data"
    }
   ],
   "source": [
    "results = test_user_info.progress_apply(lambda row: opt.get_revenue_maximizing_prices_and_revenue_from_cov(row[['Covariate1', 'Covariate2', 'Covariate3']]), axis=1)"
   ]
  },
  {
   "cell_type": "code",
   "execution_count": 5,
   "id": "5d6f760d-34f1-4e5f-9205-eda91a1779c7",
   "metadata": {},
   "outputs": [
    {
     "data": {
      "application/vnd.jupyter.widget-view+json": {
       "model_id": "c7d49fdef4884cc9a1324367c25032dc",
       "version_major": 2,
       "version_minor": 0
      },
      "text/plain": [
       "  0%|          | 0/30000 [00:00<?, ?it/s]"
      ]
     },
     "metadata": {},
     "output_type": "display_data"
    },
    {
     "data": {
      "application/vnd.jupyter.widget-view+json": {
       "model_id": "ce28337b21904b90ac53d20fccd0f722",
       "version_major": 2,
       "version_minor": 0
      },
      "text/plain": [
       "  0%|          | 0/30000 [00:00<?, ?it/s]"
      ]
     },
     "metadata": {},
     "output_type": "display_data"
    },
    {
     "data": {
      "application/vnd.jupyter.widget-view+json": {
       "model_id": "d5f7f25cb9e74e519f315edfecd2c96c",
       "version_major": 2,
       "version_minor": 0
      },
      "text/plain": [
       "  0%|          | 0/30000 [00:00<?, ?it/s]"
      ]
     },
     "metadata": {},
     "output_type": "display_data"
    }
   ],
   "source": [
    "test_submission = test_user_info[['user_index']].copy()\n",
    "test_submission['price_item_0'] = results.progress_apply(lambda x: x[0][0])\n",
    "test_submission['price_item_1'] = results.progress_apply(lambda x: x[0][1])\n",
    "test_submission['expected_revenue'] = results.progress_apply(lambda x: x[1])"
   ]
  },
  {
   "cell_type": "code",
   "execution_count": 6,
   "id": "e226d7e8-9e2c-4ac8-a380-b7385baad8e3",
   "metadata": {},
   "outputs": [
    {
     "data": {
      "text/html": [
       "<div>\n",
       "<style scoped>\n",
       "    .dataframe tbody tr th:only-of-type {\n",
       "        vertical-align: middle;\n",
       "    }\n",
       "\n",
       "    .dataframe tbody tr th {\n",
       "        vertical-align: top;\n",
       "    }\n",
       "\n",
       "    .dataframe thead th {\n",
       "        text-align: right;\n",
       "    }\n",
       "</style>\n",
       "<table border=\"1\" class=\"dataframe\">\n",
       "  <thead>\n",
       "    <tr style=\"text-align: right;\">\n",
       "      <th></th>\n",
       "      <th>user_index</th>\n",
       "      <th>price_item_0</th>\n",
       "      <th>price_item_1</th>\n",
       "      <th>expected_revenue</th>\n",
       "    </tr>\n",
       "  </thead>\n",
       "  <tbody>\n",
       "    <tr>\n",
       "      <th>0</th>\n",
       "      <td>30000</td>\n",
       "      <td>34.778864</td>\n",
       "      <td>42.982203</td>\n",
       "      <td>33.618279</td>\n",
       "    </tr>\n",
       "    <tr>\n",
       "      <th>1</th>\n",
       "      <td>30001</td>\n",
       "      <td>81.819091</td>\n",
       "      <td>72.384237</td>\n",
       "      <td>71.360144</td>\n",
       "    </tr>\n",
       "    <tr>\n",
       "      <th>2</th>\n",
       "      <td>30002</td>\n",
       "      <td>75.683409</td>\n",
       "      <td>67.860847</td>\n",
       "      <td>65.781965</td>\n",
       "    </tr>\n",
       "    <tr>\n",
       "      <th>3</th>\n",
       "      <td>30003</td>\n",
       "      <td>45.005000</td>\n",
       "      <td>45.243898</td>\n",
       "      <td>45.007438</td>\n",
       "    </tr>\n",
       "    <tr>\n",
       "      <th>4</th>\n",
       "      <td>30004</td>\n",
       "      <td>8.190909</td>\n",
       "      <td>15.841864</td>\n",
       "      <td>14.317521</td>\n",
       "    </tr>\n",
       "    <tr>\n",
       "      <th>...</th>\n",
       "      <td>...</td>\n",
       "      <td>...</td>\n",
       "      <td>...</td>\n",
       "      <td>...</td>\n",
       "    </tr>\n",
       "    <tr>\n",
       "      <th>29995</th>\n",
       "      <td>59995</td>\n",
       "      <td>47.050227</td>\n",
       "      <td>54.290678</td>\n",
       "      <td>53.553635</td>\n",
       "    </tr>\n",
       "    <tr>\n",
       "      <th>29996</th>\n",
       "      <td>59996</td>\n",
       "      <td>14.326591</td>\n",
       "      <td>31.673729</td>\n",
       "      <td>27.465596</td>\n",
       "    </tr>\n",
       "    <tr>\n",
       "      <th>29997</th>\n",
       "      <td>59997</td>\n",
       "      <td>38.869318</td>\n",
       "      <td>42.982203</td>\n",
       "      <td>39.878610</td>\n",
       "    </tr>\n",
       "    <tr>\n",
       "      <th>29998</th>\n",
       "      <td>59998</td>\n",
       "      <td>38.869318</td>\n",
       "      <td>40.720508</td>\n",
       "      <td>39.328790</td>\n",
       "    </tr>\n",
       "    <tr>\n",
       "      <th>29999</th>\n",
       "      <td>59999</td>\n",
       "      <td>81.819091</td>\n",
       "      <td>72.384237</td>\n",
       "      <td>71.245730</td>\n",
       "    </tr>\n",
       "  </tbody>\n",
       "</table>\n",
       "<p>30000 rows × 4 columns</p>\n",
       "</div>"
      ],
      "text/plain": [
       "       user_index  price_item_0  price_item_1  expected_revenue\n",
       "0           30000     34.778864     42.982203         33.618279\n",
       "1           30001     81.819091     72.384237         71.360144\n",
       "2           30002     75.683409     67.860847         65.781965\n",
       "3           30003     45.005000     45.243898         45.007438\n",
       "4           30004      8.190909     15.841864         14.317521\n",
       "...           ...           ...           ...               ...\n",
       "29995       59995     47.050227     54.290678         53.553635\n",
       "29996       59996     14.326591     31.673729         27.465596\n",
       "29997       59997     38.869318     42.982203         39.878610\n",
       "29998       59998     38.869318     40.720508         39.328790\n",
       "29999       59999     81.819091     72.384237         71.245730\n",
       "\n",
       "[30000 rows x 4 columns]"
      ]
     },
     "execution_count": 6,
     "metadata": {},
     "output_type": "execute_result"
    }
   ],
   "source": [
    "test_submission"
   ]
  },
  {
   "cell_type": "code",
   "execution_count": 7,
   "id": "135d2fae-2da8-4b2d-9537-b048924f4a7b",
   "metadata": {},
   "outputs": [
    {
     "data": {
      "text/html": [
       "<div>\n",
       "<style scoped>\n",
       "    .dataframe tbody tr th:only-of-type {\n",
       "        vertical-align: middle;\n",
       "    }\n",
       "\n",
       "    .dataframe tbody tr th {\n",
       "        vertical-align: top;\n",
       "    }\n",
       "\n",
       "    .dataframe thead th {\n",
       "        text-align: right;\n",
       "    }\n",
       "</style>\n",
       "<table border=\"1\" class=\"dataframe\">\n",
       "  <thead>\n",
       "    <tr style=\"text-align: right;\">\n",
       "      <th></th>\n",
       "      <th>user_index</th>\n",
       "      <th>price_item_0</th>\n",
       "      <th>price_item_1</th>\n",
       "      <th>expected_revenue</th>\n",
       "    </tr>\n",
       "  </thead>\n",
       "  <tbody>\n",
       "    <tr>\n",
       "      <th>count</th>\n",
       "      <td>30000.000000</td>\n",
       "      <td>30000.000000</td>\n",
       "      <td>30000.000000</td>\n",
       "      <td>30000.000000</td>\n",
       "    </tr>\n",
       "    <tr>\n",
       "      <th>mean</th>\n",
       "      <td>44999.500000</td>\n",
       "      <td>52.188452</td>\n",
       "      <td>58.399801</td>\n",
       "      <td>50.231847</td>\n",
       "    </tr>\n",
       "    <tr>\n",
       "      <th>std</th>\n",
       "      <td>8660.398374</td>\n",
       "      <td>21.562744</td>\n",
       "      <td>24.173582</td>\n",
       "      <td>21.392808</td>\n",
       "    </tr>\n",
       "    <tr>\n",
       "      <th>min</th>\n",
       "      <td>30000.000000</td>\n",
       "      <td>6.145682</td>\n",
       "      <td>9.056780</td>\n",
       "      <td>0.305236</td>\n",
       "    </tr>\n",
       "    <tr>\n",
       "      <th>25%</th>\n",
       "      <td>37499.750000</td>\n",
       "      <td>38.869318</td>\n",
       "      <td>42.982203</td>\n",
       "      <td>37.170422</td>\n",
       "    </tr>\n",
       "    <tr>\n",
       "      <th>50%</th>\n",
       "      <td>44999.500000</td>\n",
       "      <td>45.005000</td>\n",
       "      <td>54.290678</td>\n",
       "      <td>46.368130</td>\n",
       "    </tr>\n",
       "    <tr>\n",
       "      <th>75%</th>\n",
       "      <td>52499.250000</td>\n",
       "      <td>75.683409</td>\n",
       "      <td>70.122542</td>\n",
       "      <td>59.554690</td>\n",
       "    </tr>\n",
       "    <tr>\n",
       "      <th>max</th>\n",
       "      <td>59999.000000</td>\n",
       "      <td>90.000000</td>\n",
       "      <td>133.450000</td>\n",
       "      <td>132.908873</td>\n",
       "    </tr>\n",
       "  </tbody>\n",
       "</table>\n",
       "</div>"
      ],
      "text/plain": [
       "         user_index  price_item_0  price_item_1  expected_revenue\n",
       "count  30000.000000  30000.000000  30000.000000      30000.000000\n",
       "mean   44999.500000     52.188452     58.399801         50.231847\n",
       "std     8660.398374     21.562744     24.173582         21.392808\n",
       "min    30000.000000      6.145682      9.056780          0.305236\n",
       "25%    37499.750000     38.869318     42.982203         37.170422\n",
       "50%    44999.500000     45.005000     54.290678         46.368130\n",
       "75%    52499.250000     75.683409     70.122542         59.554690\n",
       "max    59999.000000     90.000000    133.450000        132.908873"
      ]
     },
     "execution_count": 7,
     "metadata": {},
     "output_type": "execute_result"
    }
   ],
   "source": [
    "# EDA\n",
    "test_submission.describe()"
   ]
  },
  {
   "cell_type": "code",
   "execution_count": 8,
   "id": "11a87fc1-75f2-4c25-85ca-9b652f547ac1",
   "metadata": {},
   "outputs": [
    {
     "data": {
      "text/plain": [
       "0"
      ]
     },
     "execution_count": 8,
     "metadata": {},
     "output_type": "execute_result"
    }
   ],
   "source": [
    "test_submission.isna().sum().sum()"
   ]
  },
  {
   "cell_type": "code",
   "execution_count": 10,
   "id": "4ec1d05c-34d9-415c-afa9-dfc85b2b56ad",
   "metadata": {},
   "outputs": [],
   "source": [
    "test_submission.to_csv(\"../part2_static_prices_submission.csv\", index=False)"
   ]
  },
  {
   "cell_type": "code",
   "execution_count": null,
   "id": "ead65996-7326-46d0-85b3-3ebbd81e3a17",
   "metadata": {},
   "outputs": [],
   "source": []
  }
 ],
 "metadata": {
  "kernelspec": {
   "display_name": "Python [conda env:ads]",
   "language": "python",
   "name": "conda-env-ads-py"
  },
  "language_info": {
   "codemirror_mode": {
    "name": "ipython",
    "version": 3
   },
   "file_extension": ".py",
   "mimetype": "text/x-python",
   "name": "python",
   "nbconvert_exporter": "python",
   "pygments_lexer": "ipython3",
   "version": "3.10.13"
  }
 },
 "nbformat": 4,
 "nbformat_minor": 5
}
