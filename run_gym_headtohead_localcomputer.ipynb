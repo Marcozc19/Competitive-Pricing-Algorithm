{
 "cells": [
  {
   "cell_type": "markdown",
   "id": "a4688825",
   "metadata": {
    "colab_type": "text",
    "id": "view-in-github"
   },
   "source": [
    "<a href=\"https://colab.research.google.com/github/ORIE5355/project_competition_public/blob/main/run_gym_headtohead.ipynb\" target=\"_parent\"><img src=\"https://colab.research.google.com/assets/colab-badge.svg\" alt=\"Open In Colab\"/></a>"
   ]
  },
  {
   "cell_type": "code",
   "execution_count": 97,
   "id": "1e30a1e2",
   "metadata": {
    "ExecuteTime": {
     "end_time": "2023-11-27T05:47:00.662314Z",
     "start_time": "2023-11-27T05:46:59.168072400Z"
    },
    "id": "1e30a1e2"
   },
   "outputs": [],
   "source": [
    "import numpy as np \n",
    "import matplotlib.pyplot as plt\n",
    "import time\n",
    "from IPython import display"
   ]
  },
  {
   "cell_type": "code",
   "execution_count": 98,
   "id": "c19f063f",
   "metadata": {
    "ExecuteTime": {
     "end_time": "2023-11-27T05:47:19.738127200Z",
     "start_time": "2023-11-27T05:47:19.599097600Z"
    }
   },
   "outputs": [
    {
     "name": "stdout",
     "output_type": "stream",
     "text": [
      "The autoreload extension is already loaded. To reload it, use:\n",
      "  %reload_ext autoreload\n"
     ]
    }
   ],
   "source": [
    "%load_ext autoreload\n",
    "%autoreload 2"
   ]
  },
  {
   "cell_type": "code",
   "execution_count": 99,
   "id": "1491d1af",
   "metadata": {
    "ExecuteTime": {
     "end_time": "2023-11-27T05:47:24.245434600Z",
     "start_time": "2023-11-27T05:47:21.053280900Z"
    },
    "id": "1491d1af"
   },
   "outputs": [],
   "source": [
    "import make_env"
   ]
  },
  {
   "cell_type": "code",
   "execution_count": 122,
   "id": "204379b7",
   "metadata": {
    "ExecuteTime": {
     "end_time": "2023-11-27T05:59:07.398617100Z",
     "start_time": "2023-11-27T05:59:06.527657200Z"
    }
   },
   "outputs": [],
   "source": [
    "project_part = 2 #TODO Change this for whether you're coding for part 1 or part 2!\n",
    "agentnames = ['agent_coop_ex_ms', 'dummy_max_val']"
   ]
  },
  {
   "cell_type": "code",
   "execution_count": 123,
   "id": "9d7889c4",
   "metadata": {
    "ExecuteTime": {
     "end_time": "2023-11-27T05:56:20.637106Z",
     "start_time": "2023-11-27T05:56:19.654261Z"
    },
    "id": "9d7889c4"
   },
   "outputs": [
    {
     "ename": "TypeError",
     "evalue": "EMAAgent.__init__() missing 2 required keyword-only arguments: 'alpha_change_up' and 'alpha_dec'",
     "output_type": "error",
     "traceback": [
      "\u001b[1;31m---------------------------------------------------------------------------\u001b[0m",
      "\u001b[1;31mTypeError\u001b[0m                                 Traceback (most recent call last)",
      "Cell \u001b[1;32mIn[123], line 5\u001b[0m\n\u001b[0;32m      2\u001b[0m     env, agents \u001b[38;5;241m=\u001b[39m make_env\u001b[38;5;241m.\u001b[39mmake_env_agents(agentnames \u001b[38;5;241m=\u001b[39m agentnames, project_part \u001b[38;5;241m=\u001b[39m project_part)\n\u001b[0;32m      4\u001b[0m \u001b[38;5;28;01melse\u001b[39;00m:\n\u001b[1;32m----> 5\u001b[0m     env, agents \u001b[38;5;241m=\u001b[39m make_env\u001b[38;5;241m.\u001b[39mmake_env_agents(agentnames \u001b[38;5;241m=\u001b[39m agentnames, project_part \u001b[38;5;241m=\u001b[39m project_part\n\u001b[0;32m      6\u001b[0m     , first_file \u001b[38;5;241m=\u001b[39m \u001b[38;5;124m'\u001b[39m\u001b[38;5;124mdata/datafile1.csv\u001b[39m\u001b[38;5;124m'\u001b[39m, second_file\u001b[38;5;241m=\u001b[39m\u001b[38;5;124m'\u001b[39m\u001b[38;5;124mdata/datafile2.csv\u001b[39m\u001b[38;5;124m'\u001b[39m)\n",
      "File \u001b[1;32m~\\OneDrive\\Desktop\\Education\\Cornell Tech\\Courses\\ORIE 5355\\Project\\project-part-2-ads_annihilators\\make_env.py:21\u001b[0m, in \u001b[0;36mmake_env_agents\u001b[1;34m(agentnames, project_part, params, first_file, second_file)\u001b[0m\n\u001b[0;32m     18\u001b[0m \u001b[38;5;28;01melif\u001b[39;00m project_part \u001b[38;5;241m==\u001b[39m \u001b[38;5;241m2\u001b[39m \u001b[38;5;129;01mand\u001b[39;00m params \u001b[38;5;129;01mis\u001b[39;00m \u001b[38;5;28;01mNone\u001b[39;00m:\n\u001b[0;32m     19\u001b[0m     params \u001b[38;5;241m=\u001b[39m default_params_2\n\u001b[1;32m---> 21\u001b[0m agents \u001b[38;5;241m=\u001b[39m [\n\u001b[0;32m     22\u001b[0m     agents\u001b[38;5;241m.\u001b[39mload(name \u001b[38;5;241m+\u001b[39m \u001b[38;5;124m\"\u001b[39m\u001b[38;5;124m.py\u001b[39m\u001b[38;5;124m\"\u001b[39m)\u001b[38;5;241m.\u001b[39mAgent(en, params)\n\u001b[0;32m     23\u001b[0m     \u001b[38;5;28;01mfor\u001b[39;00m en, name \u001b[38;5;129;01min\u001b[39;00m \u001b[38;5;28menumerate\u001b[39m(agentnames)\n\u001b[0;32m     24\u001b[0m ]\n\u001b[0;32m     25\u001b[0m env \u001b[38;5;241m=\u001b[39m MultiAgentEnv_algopricing(\n\u001b[0;32m     26\u001b[0m     params, agentnames, project_part, \u001b[38;5;28mlen\u001b[39m(\n\u001b[0;32m     27\u001b[0m         agentnames), first_file, second_file\n\u001b[0;32m     28\u001b[0m )\n\u001b[0;32m     29\u001b[0m \u001b[38;5;28;01mreturn\u001b[39;00m env, agents\n",
      "File \u001b[1;32m~\\OneDrive\\Desktop\\Education\\Cornell Tech\\Courses\\ORIE 5355\\Project\\project-part-2-ads_annihilators\\make_env.py:22\u001b[0m, in \u001b[0;36m<listcomp>\u001b[1;34m(.0)\u001b[0m\n\u001b[0;32m     18\u001b[0m \u001b[38;5;28;01melif\u001b[39;00m project_part \u001b[38;5;241m==\u001b[39m \u001b[38;5;241m2\u001b[39m \u001b[38;5;129;01mand\u001b[39;00m params \u001b[38;5;129;01mis\u001b[39;00m \u001b[38;5;28;01mNone\u001b[39;00m:\n\u001b[0;32m     19\u001b[0m     params \u001b[38;5;241m=\u001b[39m default_params_2\n\u001b[0;32m     21\u001b[0m agents \u001b[38;5;241m=\u001b[39m [\n\u001b[1;32m---> 22\u001b[0m     agents\u001b[38;5;241m.\u001b[39mload(name \u001b[38;5;241m+\u001b[39m \u001b[38;5;124m\"\u001b[39m\u001b[38;5;124m.py\u001b[39m\u001b[38;5;124m\"\u001b[39m)\u001b[38;5;241m.\u001b[39mAgent(en, params)\n\u001b[0;32m     23\u001b[0m     \u001b[38;5;28;01mfor\u001b[39;00m en, name \u001b[38;5;129;01min\u001b[39;00m \u001b[38;5;28menumerate\u001b[39m(agentnames)\n\u001b[0;32m     24\u001b[0m ]\n\u001b[0;32m     25\u001b[0m env \u001b[38;5;241m=\u001b[39m MultiAgentEnv_algopricing(\n\u001b[0;32m     26\u001b[0m     params, agentnames, project_part, \u001b[38;5;28mlen\u001b[39m(\n\u001b[0;32m     27\u001b[0m         agentnames), first_file, second_file\n\u001b[0;32m     28\u001b[0m )\n\u001b[0;32m     29\u001b[0m \u001b[38;5;28;01mreturn\u001b[39;00m env, agents\n",
      "File \u001b[1;32m~\\OneDrive\\Desktop\\Education\\Cornell Tech\\Courses\\ORIE 5355\\Project\\project-part-2-ads_annihilators\\agents\\agent_coop_ex_ms.py:6\u001b[0m, in \u001b[0;36mAgent.__init__\u001b[1;34m(self, *args, **kwargs)\u001b[0m\n\u001b[0;32m      5\u001b[0m \u001b[38;5;28;01mdef\u001b[39;00m \u001b[38;5;21m__init__\u001b[39m(\u001b[38;5;28mself\u001b[39m, \u001b[38;5;241m*\u001b[39margs, \u001b[38;5;241m*\u001b[39m\u001b[38;5;241m*\u001b[39mkwargs):\n\u001b[1;32m----> 6\u001b[0m     \u001b[38;5;28msuper\u001b[39m()\u001b[38;5;241m.\u001b[39m\u001b[38;5;21m__init__\u001b[39m(\u001b[38;5;241m*\u001b[39margs, \u001b[38;5;241m*\u001b[39m\u001b[38;5;241m*\u001b[39mkwargs)\n",
      "File \u001b[1;32m~\\OneDrive\\Desktop\\Education\\Cornell Tech\\Courses\\ORIE 5355\\Project\\project-part-2-ads_annihilators\\agents\\ads_annihilators\\abs_agents\\base_coop_exploit_ms.py:7\u001b[0m, in \u001b[0;36mBaseCoopExploitMS.__init__\u001b[1;34m(self, *args, **kwargs)\u001b[0m\n\u001b[0;32m      6\u001b[0m \u001b[38;5;28;01mdef\u001b[39;00m \u001b[38;5;21m__init__\u001b[39m(\u001b[38;5;28mself\u001b[39m, \u001b[38;5;241m*\u001b[39margs, \u001b[38;5;241m*\u001b[39m\u001b[38;5;241m*\u001b[39mkwargs):\n\u001b[1;32m----> 7\u001b[0m     true_agent \u001b[38;5;241m=\u001b[39m BaseCoopExploit(\u001b[38;5;241m*\u001b[39margs, \u001b[38;5;241m*\u001b[39m\u001b[38;5;241m*\u001b[39mkwargs)\n\u001b[0;32m      8\u001b[0m     \u001b[38;5;28msuper\u001b[39m()\u001b[38;5;241m.\u001b[39m\u001b[38;5;21m__init__\u001b[39m(\u001b[38;5;241m*\u001b[39margs, true_agent\u001b[38;5;241m=\u001b[39mtrue_agent, \u001b[38;5;241m*\u001b[39m\u001b[38;5;241m*\u001b[39mkwargs)\n",
      "File \u001b[1;32m~\\OneDrive\\Desktop\\Education\\Cornell Tech\\Courses\\ORIE 5355\\Project\\project-part-2-ads_annihilators\\agents\\ads_annihilators\\abs_agents\\base_coop_exploit.py:13\u001b[0m, in \u001b[0;36mBaseCoopExploit.__init__\u001b[1;34m(self, exploit_percent, exploit_threshold, base_normalization, baseline_ema, play_nice_threshold, *args, **kwargs)\u001b[0m\n\u001b[0;32m      5\u001b[0m \u001b[38;5;28;01mdef\u001b[39;00m \u001b[38;5;21m__init__\u001b[39m(\u001b[38;5;28mself\u001b[39m,\n\u001b[0;32m      6\u001b[0m              \u001b[38;5;241m*\u001b[39margs,\n\u001b[0;32m      7\u001b[0m              exploit_percent\u001b[38;5;241m=\u001b[39m\u001b[38;5;241m0.9\u001b[39m,\n\u001b[1;32m   (...)\u001b[0m\n\u001b[0;32m     11\u001b[0m              play_nice_threshold\u001b[38;5;241m=\u001b[39m\u001b[38;5;241m0.9\u001b[39m,\n\u001b[0;32m     12\u001b[0m              \u001b[38;5;241m*\u001b[39m\u001b[38;5;241m*\u001b[39mkwargs):\n\u001b[1;32m---> 13\u001b[0m     \u001b[38;5;28msuper\u001b[39m()\u001b[38;5;241m.\u001b[39m\u001b[38;5;21m__init__\u001b[39m(\u001b[38;5;241m*\u001b[39margs, \u001b[38;5;241m*\u001b[39m\u001b[38;5;241m*\u001b[39mkwargs)\n\u001b[0;32m     14\u001b[0m     \u001b[38;5;28mself\u001b[39m\u001b[38;5;241m.\u001b[39mexploit_percent \u001b[38;5;241m=\u001b[39m exploit_percent\n\u001b[0;32m     15\u001b[0m     \u001b[38;5;28mself\u001b[39m\u001b[38;5;241m.\u001b[39mexploit_threshold \u001b[38;5;241m=\u001b[39m exploit_threshold\n",
      "\u001b[1;31mTypeError\u001b[0m: EMAAgent.__init__() missing 2 required keyword-only arguments: 'alpha_change_up' and 'alpha_dec'"
     ]
    }
   ],
   "source": [
    "if project_part == 1:\n",
    "    env, agents = make_env.make_env_agents(agentnames = agentnames, project_part = project_part)\n",
    "    \n",
    "else:\n",
    "    env, agents = make_env.make_env_agents(agentnames = agentnames, project_part = project_part\n",
    "    , first_file = 'data/datafile1.csv', second_file='data/datafile2.csv')\n",
    "\n",
    "# you can replace the agentnames to match whatever agentfiles you create. \n",
    "# you can use the same agentnames for both agents"
   ]
  },
  {
   "cell_type": "code",
   "execution_count": 105,
   "id": "050da6eb",
   "metadata": {
    "ExecuteTime": {
     "start_time": "2023-11-27T05:56:20.619053900Z"
    },
    "id": "050da6eb"
   },
   "outputs": [],
   "source": [
    "T = 500\n",
    "import time"
   ]
  },
  {
   "cell_type": "code",
   "execution_count": 106,
   "id": "fc21ca5a",
   "metadata": {
    "colab": {
     "base_uri": "https://localhost:8080/",
     "height": 332
    },
    "id": "fc21ca5a",
    "outputId": "5fbf1364-5a0b-47f2-a083-653b0a0c4a96"
   },
   "outputs": [
    {
     "data": {
      "image/png": "[encoded data removed]",
      "text/plain": [
       "<Figure size 640x480 with 1 Axes>"
      ]
     },
     "metadata": {},
     "output_type": "display_data"
    },
    {
     "name": "stdout",
     "output_type": "stream",
     "text": [
      "last customer covariate:  [ 2.76972141  0.34377798 17.93281162]\n",
      "last (item bought, agent bought from, prices):  (nan, nan, [[372.999, 547.999], [9223372036854775807, 9223372036854775807]])\n",
      "current_profit per agent:  [20223.699823529372, 0]\n",
      "Cumulative buyer utility: 2132.541146871232\n",
      "Average per-customer runtime agent 0 in seconds: 0.041210633754730226\n",
      "Average per-customer runtime agent 1 in seconds: 8.260726928710938e-06\n"
     ]
    }
   ],
   "source": [
    "env.reset()\n",
    "customer_covariates, sale, profits = env.get_current_state_customer_to_send_agents()\n",
    "last_customer_covariates = customer_covariates\n",
    "cumulativetimes = [0 for _ in agents]\n",
    "\n",
    "fig, ax = plt.subplots(figsize=(20, 10))\n",
    "for t in range(0, T):\n",
    "    actions = []\n",
    "    for enoutside, agent in enumerate(agents):\n",
    "      ts = time.time()\n",
    "      action = agent.action((customer_covariates, sale, profits))\n",
    "      assert len(action) == project_part ## Have to give 1 price for each item. There is 1 item in part 1, 2 items in part 2\n",
    "      curtime = time.time()\n",
    "      cumulativetimes[enoutside] += curtime - ts\n",
    "      actions.append(action)\n",
    "    customer_covariates, sale, profits = env.step(actions)\n",
    "    newplot = env.render(True)\n",
    "    if newplot:\n",
    "      display.clear_output(wait=True)\n",
    "      display.display(plt.gcf())\n",
    "    print('last customer covariate: ', last_customer_covariates)\n",
    "    print('last (item bought, agent bought from, prices): ', sale)\n",
    "    print('current_profit per agent: ', profits)\n",
    "    last_customer_covariates = customer_covariates\n",
    "plt.close()\n",
    "print(\"Cumulative buyer utility: {}\".format(env.cumulative_buyer_utility))\n",
    "print(\"Average per-customer runtime agent 0 in seconds: {}\".format(cumulativetimes[0]/T))\n",
    "print(\"Average per-customer runtime agent 1 in seconds: {}\".format(cumulativetimes[1]/T))"
   ]
  },
  {
   "cell_type": "code",
   "execution_count": null,
   "id": "cc88fcfb",
   "metadata": {},
   "outputs": [],
   "source": []
  }
 ],
 "metadata": {
  "colab": {
   "include_colab_link": true,
   "name": "run_gym_headtohead_localcomputer.ipynb",
   "provenance": []
  },
  "kernelspec": {
   "display_name": "Python 3 (ipykernel)",
   "language": "python",
   "name": "python3"
  },
  "language_info": {
   "codemirror_mode": {
    "name": "ipython",
    "version": 3
   },
   "file_extension": ".py",
   "mimetype": "text/x-python",
   "name": "python",
   "nbconvert_exporter": "python",
   "pygments_lexer": "ipython3",
   "version": "3.11.4"
  },
  "varInspector": {
   "cols": {
    "lenName": 16,
    "lenType": 16,
    "lenVar": 40
   },
   "kernels_config": {
    "python": {
     "delete_cmd_postfix": "",
     "delete_cmd_prefix": "del ",
     "library": "var_list.py",
     "varRefreshCmd": "print(var_dic_list())"
    },
    "r": {
     "delete_cmd_postfix": ") ",
     "delete_cmd_prefix": "rm(",
     "library": "var_list.r",
     "varRefreshCmd": "cat(var_dic_list()) "
    }
   },
   "types_to_exclude": [
    "module",
    "function",
    "builtin_function_or_method",
    "instance",
    "_Feature"
   ],
   "window_display": false
  },
  "vscode": {
   "interpreter": {
    "hash": "73df46ec177d404a69dd943a876847378120b71a0966b441c66956db6a0c1468"
   }
  }
 },
 "nbformat": 4,
 "nbformat_minor": 5
}
